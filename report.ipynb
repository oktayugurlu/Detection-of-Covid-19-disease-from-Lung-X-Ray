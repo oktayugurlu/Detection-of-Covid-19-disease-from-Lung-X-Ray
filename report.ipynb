{
 "cells": [
  {
   "cell_type": "markdown",
   "id": "f287a64a",
   "metadata": {},
   "source": [
    "# &emsp;&emsp;&emsp;&emsp;&emsp;&emsp;HACETTEPE UNIVERSITY COMPUTER ENGINEERING\n",
    "## &emsp;&emsp;&emsp;&emsp;&emsp;&emsp;&emsp;&emsp;&emsp;&emsp;&emsp;&emsp;  &emsp;&emsp;BBM 409 Machine Learning Lab\n",
    "## &emsp;&emsp;&emsp;&emsp;&emsp;&emsp;&emsp;&emsp;&emsp;&emsp;&emsp;&emsp;  &emsp;&emsp;&emsp;&emsp;  &emsp;&emsp;Assignmet I\n",
    "\n",
    "### &emsp;Name/Surname: Oktay UĞURLU\n",
    "### &emsp;School Number: 21627725\n",
    "### &emsp;E-mail: b21627725@cs.hacettepe.edu.tr"
   ]
  },
  {
   "cell_type": "markdown",
   "id": "7f183a2f",
   "metadata": {},
   "source": [
    "### Sections\n",
    "- [Part I: Classification of Images](#part_2)\n",
    "    - [Filtering Methods](#filtering_methods)\n",
    "    - [Preparing Data](#preparing_data)\n",
    "    - [Implementation of KNN & Weighted KNN Algorithms](#implementing_knn)\n",
    "    - [K-Fold Cross Validation Implementation](#implementing_kfold)\n",
    "    - [Validation of Performance](#validation_of_performance)\n",
    "    - [Evaluation of Models](#evaluation)\n",
    "\n"
   ]
  },
  {
   "cell_type": "code",
   "execution_count": 1,
   "id": "7a050d19",
   "metadata": {},
   "outputs": [
    {
     "name": "stdout",
     "output_type": "stream",
     "text": [
      "Collecting opencv-python\n",
      "  Downloading opencv_python-4.5.1.48-cp38-cp38-win_amd64.whl (34.9 MB)\n",
      "Requirement already satisfied: numpy>=1.17.3 in c:\\users\\oktay.ugurlu.tbtk\\anaconda3\\lib\\site-packages (from opencv-python) (1.19.2)\n",
      "Installing collected packages: opencv-python\n",
      "Successfully installed opencv-python-4.5.1.48\n",
      "Note: you may need to restart the kernel to use updated packages.\n"
     ]
    }
   ],
   "source": [
    "pip install opencv-python"
   ]
  },
  {
   "cell_type": "markdown",
   "id": "0cf89d04",
   "metadata": {},
   "source": [
    "<a id='part_2'></a>\n",
    "\n",
    "# Part I: Classification of Images"
   ]
  },
  {
   "cell_type": "markdown",
   "id": "8a4186f9",
   "metadata": {},
   "source": [
    "In this assignment, the aim is implement K-Nearest Neighbors and Weighted K-Nearest Neighbors Classifier algorithms, and train a model that classifies the images to Covid, Normal and Viral Pneumonia classes. I have used 3 type of images to train the model. \n",
    "- The first type is, directly readed pixels of images\n",
    "- The second one is, filtered images by gabor filter\n",
    "- The last one is, filtered images by using canny edge detection\n",
    "\n",
    "After these filtering operation, I compose these features with each other to feed my models. After, I use both K-Nearest Neighbors and Weighted K-Nearest Neighbors Classifier algorithms to train and test of these featured data in [Validation of Performance](#validation_of_performance) part. I also use K-Fold Cross Validation which is implemented by me, to find a model that gives best accuracy and has best performance.\n",
    "\n",
    "In the [Evaluation of Models](#evaluation) part, I discussed these models and their accuracy results by using classification report and confusion matrix."
   ]
  },
  {
   "cell_type": "code",
   "execution_count": null,
   "id": "c521c4aa",
   "metadata": {},
   "outputs": [],
   "source": [
    "import cv2\n",
    "import pandas as pd\n",
    "from math import sqrt\n",
    "import numpy as np\n",
    "import matplotlib.pyplot as plt\n",
    "import math\n",
    "import operator\n",
    "from sklearn.metrics import classification_report, confusion_matrix\n",
    "\n",
    "import warnings\n",
    "warnings.filterwarnings('ignore')\n",
    "\n",
    "%matplotlib inline\n",
    "import matplotlib.pyplot as plt                              #For visualization\n",
    "import seaborn as sns; sns.set() "
   ]
  },
  {
   "cell_type": "markdown",
   "id": "e08dc6cd",
   "metadata": {},
   "source": [
    "We set a fixed size to make all images as same pixel size. Because, the higher resolution data will affect the time complexity of feature extraction."
   ]
  },
  {
   "cell_type": "code",
   "execution_count": 102,
   "id": "71c154ff",
   "metadata": {},
   "outputs": [],
   "source": [
    "SIZE=64"
   ]
  },
  {
   "cell_type": "markdown",
   "id": "13f16aed",
   "metadata": {},
   "source": [
    "<a id='filtering_methods'></a>\n",
    "## 1-) Filtering Methods"
   ]
  },
  {
   "cell_type": "code",
   "execution_count": 103,
   "id": "a30488db",
   "metadata": {
    "scrolled": true
   },
   "outputs": [],
   "source": [
    "# Grayscale\n",
    "def BGR2GRAY(img):\n",
    "    # Grayscale\n",
    "    gray = 0.2126 * img[..., 2] + 0.7152 * img[..., 1] + 0.0722 * img[..., 0]\n",
    "    return gray\n",
    "\n",
    "# Canny Edge dedection\n",
    "def Canny_edge(img):\n",
    "    canny_edges = cv2.Canny(np.uint8(img),100,200)\n",
    "    return canny_edges\n",
    "\n",
    "# Gabor Filter\n",
    "def Gabor_filter(K_size=111, Sigma=10, Gamma=1.2, Lambda=10, Psi=0, angle=0):\n",
    "    # get half size\n",
    "    d = K_size // 2\n",
    "\n",
    "    # prepare kernel\n",
    "    gabor = np.zeros((K_size, K_size), dtype=np.float32)\n",
    "\n",
    "    # each value\n",
    "    for y in range(K_size):\n",
    "        for x in range(K_size):\n",
    "            # distance from center\n",
    "            px = x - d\n",
    "            py = y - d\n",
    "\n",
    "            # degree -> radian\n",
    "            theta = angle / 180. * np.pi\n",
    "\n",
    "            # get kernel x\n",
    "            _x = np.cos(theta) * px + np.sin(theta) * py\n",
    "\n",
    "            # get kernel y\n",
    "            _y = -np.sin(theta) * px + np.cos(theta) * py\n",
    "\n",
    "            # fill kernel\n",
    "            gabor[y, x] = np.exp(-(_x**2 + Gamma**2 * _y**2) / (2 * Sigma**2)) * np.cos(2*np.pi*_x/Lambda + Psi)\n",
    "\n",
    "    # kernel normalization\n",
    "    gabor /= np.sum(np.abs(gabor))\n",
    "\n",
    "    return gabor\n",
    "\n",
    "\n",
    "# Use Gabor filter to act on the image\n",
    "def Gabor_filtering(gray, K_size=111, Sigma=10, Gamma=1.2, Lambda=10, Psi=0, angle=0):\n",
    "    # get shape\n",
    "    H, W = gray.shape\n",
    "\n",
    "    # padding\n",
    "    gray = np.pad(gray, (K_size//2, K_size//2), 'edge')\n",
    "\n",
    "    # prepare out image\n",
    "    out = np.zeros((H, W), dtype=np.float32)\n",
    "\n",
    "    # get gabor filter\n",
    "    gabor = Gabor_filter(K_size=K_size, Sigma=Sigma, Gamma=Gamma, Lambda=Lambda, Psi=0, angle=angle)\n",
    "        \n",
    "    # filtering\n",
    "    for y in range(H):\n",
    "        for x in range(W):\n",
    "            out[y, x] = np.sum(gray[y : y + K_size, x : x + K_size] * gabor)\n",
    "\n",
    "    out = np.clip(out, 0, 255)\n",
    "    out = out.astype(np.uint8)\n",
    "\n",
    "    return out\n",
    "\n",
    "\n",
    "# Use 6 Gabor filters with different angles to perform feature extraction on the image\n",
    "def Gabor_process(img):\n",
    "    # get shape\n",
    "    H, W, _ = img.shape\n",
    "\n",
    "    # gray scale\n",
    "    gray = BGR2GRAY(img).astype(np.float32)\n",
    "\n",
    "    # define angle\n",
    "    #As = [0, 45, 90, 135]\n",
    "    As = [0,30,60,90,120,150]\n",
    "\n",
    "    # prepare pyplot\n",
    "    plt.subplots_adjust(left=0, right=1, top=1, bottom=0, hspace=0, wspace=0.2)\n",
    "\n",
    "    out = np.zeros([H, W], dtype=np.float32)\n",
    "\n",
    "    # each angle\n",
    "    for i, A in enumerate(As):\n",
    "        # gabor filtering\n",
    "        _out = Gabor_filtering(gray, K_size=9, Sigma=1.5, Gamma=1.2, Lambda=1, angle=A)\n",
    "\n",
    "        # add gabor filtered image\n",
    "        out += _out\n",
    "\n",
    "    # scale normalization\n",
    "    out = out / out.max() * 255\n",
    "    out = out.astype(np.uint8)\n",
    "\n",
    "    return out\n"
   ]
  },
  {
   "cell_type": "markdown",
   "id": "83fda826",
   "metadata": {},
   "source": [
    "<a id='preparing_data'></a>\n",
    "## 2-) Preparing Data"
   ]
  },
  {
   "cell_type": "markdown",
   "id": "cdbb5e53",
   "metadata": {},
   "source": [
    " ### - Loading Images to Memory and Gabor Filtering:"
   ]
  },
  {
   "cell_type": "markdown",
   "id": "a5f42d01",
   "metadata": {},
   "source": [
    "I have load the data and apply gabor filtering to each dataset:"
   ]
  },
  {
   "cell_type": "code",
   "execution_count": 104,
   "id": "91e086c9",
   "metadata": {},
   "outputs": [],
   "source": [
    "image_list_COVID = []\n",
    "out_list_COVID_not_filtered = np.empty((0,SIZE*SIZE), dtype=float, order='C')\n",
    "for i in range(1,961):\n",
    "    # Read image\n",
    "    imgCOVID=cv2.imread('dataset/COVID/COVID ('+str(i)+').PNG').astype(np.float32)\n",
    "    image_list_COVID.append(imgCOVID)\n",
    "    \n",
    "image_list_NORMAL = []\n",
    "for i in range(1,1074):\n",
    "    # Read image\n",
    "    img=cv2.imread('dataset/NORMAL/NORMAL ('+str(i)+').PNG').astype(np.float32)\n",
    "    image_list_NORMAL.append(img)\n",
    "    \n",
    "image_list_VIRAL = []\n",
    "for i in range(1,1077):\n",
    "    # Read image\n",
    "    imgVIRAL=cv2.imread('dataset/Viral Pneumonia/Viral Pneumonia ('+str(i)+').png').astype(np.float32)\n",
    "    image_list_VIRAL.append(imgVIRAL)"
   ]
  },
  {
   "cell_type": "code",
   "execution_count": 113,
   "id": "7f1c57ba",
   "metadata": {
    "scrolled": true
   },
   "outputs": [
    {
     "data": {
      "text/plain": [
       "<Figure size 432x288 with 0 Axes>"
      ]
     },
     "metadata": {},
     "output_type": "display_data"
    }
   ],
   "source": [
    "# **** Gabor Filtering for COVID data **** #\n",
    "\n",
    "out_list_COVID = np.empty((0,SIZE*SIZE), dtype=float, order='C')\n",
    "out_list_COVID_not_filtered = np.empty((0,SIZE*SIZE), dtype=float, order='C')\n",
    "\n",
    "for i in range(0,960):\n",
    "    # gabor process\n",
    "    resized_image = cv2.resize(image_list_COVID[i], (SIZE, SIZE))\n",
    "    outCOVID = Gabor_process(resized_image)\n",
    "    out_list_COVID = np.append(out_list_COVID, outCOVID.reshape(1, SIZE*SIZE), axis=0)\n",
    "    resized_image = BGR2GRAY(resized_image)\n",
    "    out_list_COVID_not_filtered = np.append(out_list_COVID_not_filtered, resized_image.reshape(1, SIZE*SIZE), axis=0)\n",
    "    \n",
    "    \n",
    "# **** Gabor Filtering for NORMAL data **** #\n",
    "\n",
    "out_list_NORMAL = np.empty((0,SIZE*SIZE ), dtype=float, order='C')\n",
    "out_list_NORMAL_not_filtered = np.empty((0,SIZE*SIZE), dtype=float, order='C')\n",
    "for i in range(0,1073):\n",
    "    # gabor process\n",
    "    resized_image = cv2.resize(image_list_NORMAL[i], (SIZE, SIZE))\n",
    "    out = Gabor_process(cv2.resize(image_list_NORMAL[i], (SIZE, SIZE)))\n",
    "    out_list_NORMAL = np.append(out_list_NORMAL, out.reshape(1, SIZE*SIZE ), axis=0)\n",
    "    resized_image = BGR2GRAY(resized_image)\n",
    "    out_list_NORMAL_not_filtered = np.append(out_list_NORMAL_not_filtered, resized_image.reshape(1, SIZE*SIZE), axis=0)\n",
    "\n",
    "    \n",
    "# **** Gabor Filtering for Viral Pneumonia data **** #\n",
    "\n",
    "out_list_VIRAL = np.empty((0,SIZE*SIZE), dtype=float, order='C')\n",
    "out_list_VIRAL_not_filtered = np.empty((0,SIZE*SIZE), dtype=float, order='C')\n",
    "for i in range(0,1076):\n",
    "    # gabor process\n",
    "    resized_image = cv2.resize(image_list_VIRAL[i], (SIZE, SIZE))\n",
    "    outVIRAL = Gabor_process(cv2.resize(image_list_VIRAL[i], (SIZE, SIZE)))\n",
    "    out_list_VIRAL = np.append(out_list_VIRAL, outVIRAL.reshape(1, SIZE*SIZE), axis=0)\n",
    "    resized_image = BGR2GRAY(resized_image)\n",
    "    out_list_VIRAL_not_filtered = np.append(out_list_VIRAL_not_filtered, resized_image.reshape(1, SIZE*SIZE), axis=0)\n"
   ]
  },
  {
   "cell_type": "markdown",
   "id": "957a76f3",
   "metadata": {},
   "source": [
    " ### - Canny Edge Detection:"
   ]
  },
  {
   "cell_type": "markdown",
   "id": "76817379",
   "metadata": {},
   "source": [
    "Here, I have used the canny edge detection to filter the data:"
   ]
  },
  {
   "cell_type": "code",
   "execution_count": 114,
   "id": "f5250487",
   "metadata": {},
   "outputs": [],
   "source": [
    "canny_out_list_COVID = np.empty((0,SIZE*SIZE), dtype=float, order='C')\n",
    "for i in range(0,960):\n",
    "    #canny edge process\n",
    "    out_canny = Canny_edge(cv2.resize(image_list_COVID[i], (SIZE, SIZE)))\n",
    "    canny_out_list_COVID = np.append(canny_out_list_COVID, out_canny.reshape(1, SIZE*SIZE), axis=0)\n",
    "\n",
    "canny_out_list_NORMAL = np.empty((0,SIZE*SIZE), dtype=float, order='C')\n",
    "for i in range(0,1073):\n",
    "    #canny edge process\n",
    "    out_canny = Canny_edge(cv2.resize(image_list_NORMAL[i], (SIZE, SIZE)))\n",
    "    canny_out_list_NORMAL = np.append(canny_out_list_NORMAL, out_canny.reshape(1, SIZE*SIZE), axis=0)\n",
    "\n",
    "canny_out_list_VIRAL = np.empty((0,SIZE*SIZE), dtype=float, order='C')\n",
    "for i in range(0,1076):\n",
    "    #canny edge process\n",
    "    out_canny = Canny_edge(cv2.resize(image_list_VIRAL[i], (SIZE, SIZE)))\n",
    "    canny_out_list_VIRAL = np.append(canny_out_list_VIRAL, out_canny.reshape(1, SIZE*SIZE), axis=0)"
   ]
  },
  {
   "cell_type": "markdown",
   "id": "cfcfc89c",
   "metadata": {},
   "source": [
    "### Creating Labels:"
   ]
  },
  {
   "cell_type": "markdown",
   "id": "c3dabb6d",
   "metadata": {},
   "source": [
    "I create the labels as numeric for each row prepared by composing in order COVID, NORMAL and Viral Phenomenia. For COVID, I assign 1, for NORMAL, I assign 2, and for VIRAL, I assign 3:"
   ]
  },
  {
   "cell_type": "code",
   "execution_count": 115,
   "id": "9ab9095c",
   "metadata": {},
   "outputs": [],
   "source": [
    "#   Because the gabor filtering takes too many times, I save and read gabor filtered data here\n",
    "#out_list_COVID = pd.read_csv ('COVID.csv', engine='python')\n",
    "#out_list_VIRAL = pd.read_csv ('VIRAL.csv', engine='python')\n",
    "#out_list_NORMAL = pd.read_csv ('NORMAL.csv', engine='python')\n",
    "\n",
    "label_COVID_df = np.empty((960,1), dtype=float, order='C')\n",
    "label_COVID_df[:] = 1\n",
    "\n",
    "label_NORMAL_df = np.empty((1073,1), dtype=float, order='C')\n",
    "label_NORMAL_df[:] = 2\n",
    "\n",
    "label_VIRAL_df = np.empty((1076,1), dtype=float, order='C')\n",
    "label_VIRAL_df[:] = 3"
   ]
  },
  {
   "cell_type": "markdown",
   "id": "0943025a",
   "metadata": {},
   "source": [
    "After, I compose my datasets to create features:"
   ]
  },
  {
   "cell_type": "markdown",
   "id": "9c5fdabd",
   "metadata": {},
   "source": [
    "### Composing Gabor Filtering Features:"
   ]
  },
  {
   "cell_type": "code",
   "execution_count": 116,
   "id": "6bf6f006",
   "metadata": {},
   "outputs": [],
   "source": [
    "composed_feature_arr = np.concatenate((out_list_COVID, out_list_NORMAL))\n",
    "composed_feature_arr = np.concatenate((composed_feature_arr, out_list_VIRAL))"
   ]
  },
  {
   "cell_type": "code",
   "execution_count": 117,
   "id": "3598dacf",
   "metadata": {},
   "outputs": [],
   "source": [
    "composed_label_arr = np.concatenate((label_COVID_df, label_NORMAL_df))\n",
    "composed_label_arr = np.concatenate((composed_label_arr, label_VIRAL_df))"
   ]
  },
  {
   "cell_type": "code",
   "execution_count": 118,
   "id": "18d6c0c0",
   "metadata": {},
   "outputs": [],
   "source": [
    "composed_feature_arr = pd.DataFrame(composed_feature_arr)\n",
    "composed_feature_arr[4096] = composed_label_arr\n",
    "gabor_composed_data = composed_feature_arr"
   ]
  },
  {
   "cell_type": "markdown",
   "id": "6ac313d1",
   "metadata": {},
   "source": [
    "### Composing Not Filtered Image Features:"
   ]
  },
  {
   "cell_type": "code",
   "execution_count": 119,
   "id": "65fd50ac",
   "metadata": {},
   "outputs": [],
   "source": [
    "not_filtered_composed_feature_arr = np.concatenate((out_list_COVID_not_filtered, out_list_NORMAL_not_filtered))\n",
    "not_filtered_composed_feature_arr = np.concatenate((not_filtered_composed_feature_arr, out_list_VIRAL_not_filtered))\n",
    "\n",
    "not_filtered_composed_feature_arr = pd.DataFrame(not_filtered_composed_feature_arr)\n",
    "not_filtered_composed_feature_arr[4096] = composed_label_arr\n",
    "not_filtered_composed_data = not_filtered_composed_feature_arr"
   ]
  },
  {
   "cell_type": "markdown",
   "id": "d86fc78c",
   "metadata": {},
   "source": [
    "### Composing Not Filtered Image and Gabor Filtering Features:"
   ]
  },
  {
   "cell_type": "code",
   "execution_count": 120,
   "id": "b3a79ea3",
   "metadata": {},
   "outputs": [],
   "source": [
    "not_filtered_gabor_composed_data = pd.concat([not_filtered_composed_data,gabor_composed_data], axis = 1)"
   ]
  },
  {
   "cell_type": "markdown",
   "id": "4d82597a",
   "metadata": {},
   "source": [
    "### Composing Canny Edge Features:"
   ]
  },
  {
   "cell_type": "code",
   "execution_count": 121,
   "id": "de0bf117",
   "metadata": {},
   "outputs": [],
   "source": [
    "canny_composed_feature_arr = np.concatenate((canny_out_list_COVID, canny_out_list_NORMAL))\n",
    "canny_composed_feature_arr = np.concatenate((canny_composed_feature_arr, canny_out_list_VIRAL))"
   ]
  },
  {
   "cell_type": "code",
   "execution_count": 122,
   "id": "898ae5b4",
   "metadata": {},
   "outputs": [],
   "source": [
    "canny_composed_feature_arr = pd.DataFrame(canny_composed_feature_arr)\n",
    "canny_composed_feature_arr[4096] = composed_label_arr\n",
    "canny_composed_data = composed_feature_arr"
   ]
  },
  {
   "cell_type": "markdown",
   "id": "529cad76",
   "metadata": {},
   "source": [
    "### Composing Canny Edge and Gabor Filtering Features:"
   ]
  },
  {
   "cell_type": "code",
   "execution_count": 123,
   "id": "008e3214",
   "metadata": {},
   "outputs": [],
   "source": [
    "canny_gabor_composed_data = pd.concat([canny_composed_data,gabor_composed_data], axis = 1)"
   ]
  },
  {
   "cell_type": "markdown",
   "id": "a4eb246c",
   "metadata": {},
   "source": [
    "### Composing Not Filtered, Canny Edge and Gabor Filtering Features:"
   ]
  },
  {
   "cell_type": "code",
   "execution_count": 124,
   "id": "1a40249a",
   "metadata": {},
   "outputs": [],
   "source": [
    "not_filtered_canny_gabor_composed_data = pd.concat([canny_gabor_composed_data,not_filtered_composed_data], axis = 1)"
   ]
  },
  {
   "cell_type": "markdown",
   "id": "31544d11",
   "metadata": {},
   "source": [
    "<a id='implementing_knn'></a>\n",
    "## 4-) Implementation of KNN & Weighted KNN Algorithms"
   ]
  },
  {
   "cell_type": "markdown",
   "id": "1b557bd3",
   "metadata": {},
   "source": [
    "I implement both K-Nearest-Neighbour and Weighted-KNN algorithms as you can see below. Because the pandas dataframe is not efficient in sort operations and caluclations, I convert the data to numpy array by using dataframe_to_numpy() function which I implement, before running the algorithm.\n",
    "\n",
    "While the caluculation of the distances from each rows was 1.5 second, after convertion, the runtime of the calculation became 0.10 second."
   ]
  },
  {
   "cell_type": "code",
   "execution_count": 233,
   "id": "6df6ebec",
   "metadata": {},
   "outputs": [],
   "source": [
    "class KNN_Classification:\n",
    "    trained_data = []\n",
    "    #prediction_and_row_list is used to get index of tested data and its predicted label, after using it in error analysis \n",
    "    \n",
    "    def __init__(self, k, prediction_and_row_index_list=[]):\n",
    "        self.k = k\n",
    "        self.prediction_and_row_index_list = []\n",
    "    \n",
    "    # Calculating distance\n",
    "    def calculate_distances(self, trained_data_list, test_data):\n",
    "        distance_array = np.sqrt(np.sum(np.square(np.subtract(trained_data_list, test_data)), axis = 1))\n",
    "        return distance_array.reshape(distance_array.shape[0],-1)\n",
    "\n",
    "    def check_key_existance_and_return_value(self, dictionary,key):\n",
    "        if key in dictionary:\n",
    "            return dictionary[key]\n",
    "        else:\n",
    "            return 0\n",
    "\n",
    "    # Because of performance issues, I convert dataframes to numpy arrays to increase the calculation of distances.\n",
    "    def dataframe_to_numpy(self, trained_data, trained_label, test_data):\n",
    "        return (trained_data.to_numpy(), trained_label.to_numpy(), test_data.to_numpy())\n",
    "\n",
    "    # Train\n",
    "    def train(self, trained_data, trained_label):\n",
    "        self.trained_data = trained_data.copy()\n",
    "        self.trained_label = trained_label.copy()\n",
    "        self.index_array = np.array([i for i in range(trained_data.shape[0])])\n",
    "        #I convert 1-D data to 2-D data\n",
    "        self.index_array = self.index_array.reshape(self.index_array.shape[0],-1)\n",
    "    \n",
    "    # Knn predict. test data should not contain label column\n",
    "    def predict(self, test_data):\n",
    "        prediction_list = []\n",
    "        trained_data_array, trained_label_array, test_data_array = self.dataframe_to_numpy(self.trained_data, self.trained_label, test_data)\n",
    "        for test_data_i in range(test_data_array.shape[0]):\n",
    "            distance_index_array = self.calculate_distances(trained_data_array, test_data_array[test_data_i,:])\n",
    "            # index_array which keeps indexes of used train data used in distance calculation are \n",
    "            # added as second column to find the label of this point easily in trained_label_array\n",
    "            distance_index_array = np.append(distance_index_array, self.index_array, axis=1)\n",
    "            \n",
    "            nearest_n_distance_index_array = distance_index_array[distance_index_array[:,0].argsort()]\n",
    "            label_numbers_dict = {}\n",
    "            \n",
    "            for nearest_n_distance_array_i in range(self.k):\n",
    "                label_of_nearest_data = trained_label_array[int(nearest_n_distance_index_array[nearest_n_distance_array_i,1])]\n",
    "                label_numbers_dict[label_of_nearest_data] = self.check_key_existance_and_return_value(label_numbers_dict, label_of_nearest_data) + 1\n",
    "            predicted_label = max(label_numbers_dict.items(), key=operator.itemgetter(1))[0]\n",
    "            prediction_list.append(predicted_label)\n",
    "            self.prediction_and_row_index_list.append([test_data.index[test_data_i], predicted_label])\n",
    "        return pd.DataFrame(prediction_list)"
   ]
  },
  {
   "cell_type": "code",
   "execution_count": 241,
   "id": "c7bc93c5",
   "metadata": {},
   "outputs": [],
   "source": [
    "class Weighted_KNN_Classification:\n",
    "    trained_data = []\n",
    "    #prediction_and_row_list is used to get index of tested data and its predicted label, after using it in error analysis \n",
    "    \n",
    "    def __init__(self, k, prediction_and_row_index_list=[]):\n",
    "        self.k = k\n",
    "        self.prediction_and_row_index_list = []\n",
    "    \n",
    "    # Train\n",
    "    def train(self, trained_data, trained_label):\n",
    "        self.trained_data = trained_data.copy()\n",
    "        self.trained_label = trained_label.copy()\n",
    "        self.index_array = np.array([i for i in range(trained_data.shape[0])])\n",
    "        self.index_array = self.index_array.reshape(self.index_array.shape[0],-1)\n",
    "    \n",
    "    # Calculating distance\n",
    "    def calculate_distances(self, trained_data_list, test_data):\n",
    "        distance_array = np.sqrt(np.sum(np.square(np.subtract(trained_data_list, test_data)), axis = 1))\n",
    "        return distance_array.reshape(distance_array.shape[0],-1)\n",
    "    \n",
    "   # inverse square distance formula\n",
    "    def calculate_weight(self, distance):\n",
    "        return 1 / (distance)\n",
    "    \n",
    "    def check_key_existance_and_return_value(self, dictionary,key):\n",
    "        if key in dictionary:\n",
    "            return dictionary[key]\n",
    "        else:\n",
    "            return 0\n",
    "        \n",
    "    def sum_weights_of_each_group(self, distance_and_index_array, label_array):\n",
    "        label_weight_dict = {}\n",
    "        for row in range(self.k):\n",
    "            label = label_array[int(distance_and_index_array[row,1])]\n",
    "            label_weight_dict[label] = self.check_key_existance_and_return_value(label_weight_dict, label) + self.calculate_weight(distance_and_index_array[row,0])\n",
    "        return label_weight_dict\n",
    "\n",
    "    def convert_dataframe_to_numpy(self, trained_data, trained_label, test_data):\n",
    "        return (trained_data.to_numpy(), trained_label.to_numpy(), test_data.to_numpy())\n",
    "    \n",
    "    # Knn predict. test data should not contain label column\n",
    "    def predict(self, test_data):\n",
    "        prediction_list = []\n",
    "        trained_data_array, trained_label_array, test_data_array = self.convert_dataframe_to_numpy(self.trained_data, self.trained_label, test_data)\n",
    "        for test_data_i in range(test_data_array.shape[0]):\n",
    "            distance_index_array = self.calculate_distances(trained_data_array, test_data_array[test_data_i,:])\n",
    "\n",
    "            # Indexes of used train data used in distance calculation are added as second column\n",
    "            # to find the label of this point easily in trained_label_array\n",
    "            distance_index_array = np.append(distance_index_array, self.index_array, axis=1)\n",
    "            nearest_n_distance_index_array = distance_index_array[distance_index_array[:,0].argsort()][:self.k]\n",
    "            \n",
    "            label_numbers_dict = self.sum_weights_of_each_group(nearest_n_distance_index_array, trained_label_array)\n",
    "            predicted_label = max(label_numbers_dict.items(), key=operator.itemgetter(1))[0]\n",
    "            prediction_list.append(predicted_label)\n",
    "            self.prediction_and_row_index_list.append([test_data.index[test_data_i], predicted_label])\n",
    "        return pd.DataFrame(prediction_list)       \n",
    "    \n"
   ]
  },
  {
   "cell_type": "code",
   "execution_count": null,
   "id": "5266d1a0",
   "metadata": {},
   "outputs": [],
   "source": []
  },
  {
   "cell_type": "markdown",
   "id": "0bb10590",
   "metadata": {},
   "source": [
    "<a id='implementing_kfold'></a>\n",
    "## 5-) K-Fold Cross Validation Implementation"
   ]
  },
  {
   "cell_type": "markdown",
   "id": "67769958",
   "metadata": {},
   "source": [
    "I implemented the K-Fold cross validation algorithm. Also, I develop the accuracy calculator to use in my code. Also, I assign the k parameter which is number of splittings as 5 and use this default value for my training part, as the 5 gives the best performance:"
   ]
  },
  {
   "cell_type": "code",
   "execution_count": 127,
   "id": "fe75dc1d",
   "metadata": {
    "scrolled": true
   },
   "outputs": [],
   "source": [
    "# I calculate the accuracy by dividing the number of correctly classified examples of number of examples\n",
    "\n",
    "def accuracy(predicted_labels, actual_label):\n",
    "    # Because the actual labels index is not start from 0, I resett its index\n",
    "    actual_label = actual_label.reset_index(drop=True).to_frame()\n",
    "    actual_label.columns = [0]\n",
    "    difference = predicted_labels.sub(actual_label)\n",
    "    return difference[difference.iloc[:,0]==0].shape[0] / actual_label.shape[0]\n",
    "\n",
    "def split_data(data_array, k):\n",
    "    data_number_in_each_bucket = len(data_array)//k\n",
    "    start_index_of_bucket=0\n",
    "    end_index_of_bucket=data_number_in_each_bucket\n",
    "    splitted_data_list=[]\n",
    "    for i in range(0,k):\n",
    "        if(i==k-1):\n",
    "            splitted_data_list.append(data_array[start_index_of_bucket:])\n",
    "        else:\n",
    "            splitted_data_list.append(data_array[start_index_of_bucket:end_index_of_bucket])\n",
    "            start_index_of_bucket = end_index_of_bucket\n",
    "            end_index_of_bucket += data_number_in_each_bucket\n",
    "    return splitted_data_list\n",
    "\n",
    "def k_fold_cross_validation(model, data_df, k=5):\n",
    "    data_df = data_df.sample(frac=1).reset_index(drop=True)\n",
    "    splitted_data_list = split_data(data_df, k)\n",
    "    total_accuracy = 0\n",
    "    for test_data_index in range(0,k):\n",
    "        train_data_list = splitted_data_list.copy()\n",
    "        train_data_list.pop(test_data_index)\n",
    "        \n",
    "        train_data = pd.concat(train_data_list, ignore_index=True)\n",
    "        test_data = splitted_data_list[test_data_index]\n",
    "        knn.train(train_data.iloc[:,:-1], train_data.iloc[:,-1])\n",
    "        prediction_array = knn.predict(test_data.iloc[:,:-1])\n",
    "        total_accuracy += accuracy(prediction_array, test_data.iloc[:,-1])\n",
    "    return total_accuracy/k\n"
   ]
  },
  {
   "cell_type": "markdown",
   "id": "424adaba",
   "metadata": {},
   "source": [
    "<a id='validation_of_performance'></a>\n",
    "## 6-) Validation of Performance"
   ]
  },
  {
   "cell_type": "markdown",
   "id": "4d94e7a8",
   "metadata": {},
   "source": [
    "In this part, I tried to find best model for different featured data and k values by using both k-fold cross validation and train-test method. I didn't use k-fold cross validation to find best k values for each model because its time complexity. There are 6 number different featured data, and I validate these by using both weighted k-nearest algorithm and normal k-nearest algorithm. I only try odd and not divisible by 3 numbers because the number of features are 3:"
   ]
  },
  {
   "cell_type": "markdown",
   "id": "250a5477",
   "metadata": {},
   "source": [
    "- **KNN algorithm** for **not filtered** features:"
   ]
  },
  {
   "cell_type": "code",
   "execution_count": 89,
   "id": "c6173b3e",
   "metadata": {},
   "outputs": [
    {
     "name": "stdout",
     "output_type": "stream",
     "text": [
      "Maximum k: 17\n",
      "Accuracy: 0.9121114683815649\n"
     ]
    }
   ],
   "source": [
    "#Here, I split my data as train and test to find best k parameter. The test data constitutes of 30% of dataset\n",
    "test_split_ratio = 3\n",
    "#Shuffling the dataframe\n",
    "data_df = not_filtered_composed_data.sample(frac=1).reset_index(drop=True)\n",
    "\n",
    "test_start_index = int(data_df.shape[0] - data_df.shape[0] * test_split_ratio/10)\n",
    "k_value_list = [1,5,7,11,13,17]\n",
    "accuracy_k_dict = {}\n",
    "for selected_k in k_value_list:\n",
    "    knn = KNN_Classification(selected_k)\n",
    "    #Train data\n",
    "    knn.train(data_df.iloc[:test_start_index,:-1], data_df.iloc[:test_start_index,-1])\n",
    "    #Predict labels\n",
    "    prediction_array = knn.predict(data_df.iloc[test_start_index:,:-1])\n",
    "    #Accuracy calculation\n",
    "    accuracy_k_dict[selected_k] = accuracy(prediction_array, data_df.iloc[test_start_index:,-1])\n",
    "\n",
    "max_k = max(accuracy_k_dict.items(), key=operator.itemgetter(1))[0]\n",
    "print(\"Maximum k: \"+ str(max_k))\n",
    "print(\"Accuracy: \"+ str(accuracy_k_dict[max_k]))"
   ]
  },
  {
   "cell_type": "code",
   "execution_count": 145,
   "id": "e0feedfb",
   "metadata": {},
   "outputs": [
    {
     "name": "stdout",
     "output_type": "stream",
     "text": [
      "K-Fold Accuracy: 0.9096207379717504\n"
     ]
    }
   ],
   "source": [
    "not_filtered_knn = KNN_Classification(max_k)\n",
    "not_filtered_knn_accuracy=k_fold_cross_validation(not_filtered_knn, not_filtered_composed_data)\n",
    "print(\"K-Fold Accuracy: \"+ str(not_filtered_knn_accuracy))"
   ]
  },
  {
   "cell_type": "markdown",
   "id": "a25ddf88",
   "metadata": {},
   "source": [
    "- **Weighted KNN** algorithm for **not filtered** features:"
   ]
  },
  {
   "cell_type": "code",
   "execution_count": 91,
   "id": "42b9320b",
   "metadata": {},
   "outputs": [
    {
     "name": "stdout",
     "output_type": "stream",
     "text": [
      "Maximum k: 11\n",
      "Accuracy: 0.9056806002143623\n"
     ]
    }
   ],
   "source": [
    "#Here, I split my data as train and test to find best k parameter. The test data constitutes of 30% of dataset\n",
    "test_split_ratio = 3\n",
    "#Shuffling the dataframe\n",
    "data_df = not_filtered_composed_data.sample(frac=1).reset_index(drop=True)\n",
    "\n",
    "test_start_index = int(data_df.shape[0] - data_df.shape[0] * test_split_ratio/10)\n",
    "k_value_list = [1,5,7,11,13,17]\n",
    "accuracy_k_dict = {}\n",
    "for selected_k in k_value_list:\n",
    "    knn = Weighted_KNN_Classification(selected_k)\n",
    "    knn.train(data_df.iloc[:test_start_index,:-1], data_df.iloc[:test_start_index,-1])\n",
    "    prediction_array = knn.predict(data_df.iloc[test_start_index:,:-1])\n",
    "    accuracy_k_dict[selected_k] = accuracy(prediction_array, data_df.iloc[test_start_index:,-1])\n",
    "\n",
    "max_k = max(accuracy_k_dict.items(), key=operator.itemgetter(1))[0]\n",
    "print(\"Maximum k: \"+ str(max_k))\n",
    "print(\"Accuracy: \"+ str(accuracy_k_dict[max_k]))"
   ]
  },
  {
   "cell_type": "code",
   "execution_count": 146,
   "id": "3bc75525",
   "metadata": {},
   "outputs": [
    {
     "name": "stdout",
     "output_type": "stream",
     "text": [
      "K-Fold Accuracy: 0.910261446182372\n"
     ]
    }
   ],
   "source": [
    "weighted_not_filtered_knn = Weighted_KNN_Classification(max_k)\n",
    "weighted_not_filtered_knn_accuracy = k_fold_cross_validation(weighted_not_filtered_knn, not_filtered_composed_data)\n",
    "print(\"K-Fold Accuracy: \"+ str(weighted_not_filtered_knn_accuracy))"
   ]
  },
  {
   "cell_type": "markdown",
   "id": "de2fec4b",
   "metadata": {},
   "source": [
    "- **KNN algorithm** for **gabor filtering** features:"
   ]
  },
  {
   "cell_type": "code",
   "execution_count": 93,
   "id": "03b1ec07",
   "metadata": {},
   "outputs": [
    {
     "name": "stdout",
     "output_type": "stream",
     "text": [
      "Maximum k: 11\n",
      "Accuracy: 0.9356913183279743\n"
     ]
    }
   ],
   "source": [
    "#Here, I split my data as train and test to find best k parameter. The test data constitutes of 30% of dataset\n",
    "test_split_ratio = 3\n",
    "#Shuffling the dataframe\n",
    "data_df = gabor_composed_data.sample(frac=1).reset_index(drop=True)\n",
    "\n",
    "test_start_index = int(data_df.shape[0] - data_df.shape[0] * test_split_ratio/10)\n",
    "k_value_list = [1,5,7,11,13,17]\n",
    "accuracy_k_dict = {}\n",
    "for selected_k in k_value_list:\n",
    "    knn = KNN_Classification(selected_k)\n",
    "    knn.train(data_df.iloc[:test_start_index,:-1], data_df.iloc[:test_start_index,-1])\n",
    "    prediction_array = knn.predict(data_df.iloc[test_start_index:,:-1])\n",
    "    accuracy_k_dict[selected_k] = accuracy(prediction_array, data_df.iloc[test_start_index:,-1])\n",
    "\n",
    "max_k = max(accuracy_k_dict.items(), key=operator.itemgetter(1))[0]\n",
    "print(\"Maximum k: \"+ str(max_k))\n",
    "print(\"Accuracy: \"+ str(accuracy_k_dict[max_k]))"
   ]
  },
  {
   "cell_type": "code",
   "execution_count": 147,
   "id": "6b326424",
   "metadata": {},
   "outputs": [
    {
     "name": "stdout",
     "output_type": "stream",
     "text": [
      "K-Fold Accuracy: 0.9179815922824601\n"
     ]
    }
   ],
   "source": [
    "gabor_knn = KNN_Classification(max_k)\n",
    "gabor_knn_accuracy = k_fold_cross_validation(gabor_knn, gabor_composed_data)\n",
    "print(\"K-Fold Accuracy: \"+ str(gabor_knn_accuracy))"
   ]
  },
  {
   "cell_type": "markdown",
   "id": "03fc933f",
   "metadata": {},
   "source": [
    "- **Weighted KNN** algorithm for **gabor filtering** features:"
   ]
  },
  {
   "cell_type": "code",
   "execution_count": 95,
   "id": "768c157d",
   "metadata": {},
   "outputs": [
    {
     "name": "stdout",
     "output_type": "stream",
     "text": [
      "Maximum k: 5\n",
      "Accuracy: 0.9260450160771704\n"
     ]
    }
   ],
   "source": [
    "#Here, I split my data as train and test to find best k parameter. The test data constitutes of 30% of dataset\n",
    "test_split_ratio = 3\n",
    "#Shuffling the dataframe\n",
    "data_df = gabor_composed_data.sample(frac=1).reset_index(drop=True)\n",
    "\n",
    "test_start_index = int(data_df.shape[0] - data_df.shape[0] * test_split_ratio/10)\n",
    "\n",
    "k_value_list = [1,3,5,7,9,11,13,15]\n",
    "accuracy_k_dict = {}\n",
    "for selected_k in k_value_list:\n",
    "    knn = Weighted_KNN_Classification(selected_k)\n",
    "    knn.train(data_df.iloc[:test_start_index,:-1], data_df.iloc[:test_start_index,-1])\n",
    "    prediction_array = knn.predict(data_df.iloc[test_start_index:,:-1])\n",
    "    accuracy_k_dict[selected_k] = accuracy(prediction_array, data_df.iloc[test_start_index:,-1])\n",
    "\n",
    "max_k = max(accuracy_k_dict.items(), key=operator.itemgetter(1))[0]\n",
    "print(\"Maximum k: \"+ str(max_k))\n",
    "print(\"Accuracy: \"+ str(accuracy_k_dict[max_k]))"
   ]
  },
  {
   "cell_type": "code",
   "execution_count": 148,
   "id": "ce742f59",
   "metadata": {},
   "outputs": [
    {
     "name": "stdout",
     "output_type": "stream",
     "text": [
      "K-Fold Accuracy: 0.9211984749593235\n"
     ]
    }
   ],
   "source": [
    "weighted_gabor_knn = Weighted_KNN_Classification(max_k)\n",
    "weighted_gabor_knn_accuracy = k_fold_cross_validation(weighted_gabor_knn, gabor_composed_data)\n",
    "print(\"K-Fold Accuracy: \"+ str(weighted_gabor_knn_accuracy))"
   ]
  },
  {
   "cell_type": "markdown",
   "id": "5413ce1b",
   "metadata": {},
   "source": [
    "- **KNN algorithm** for **not filtered and gabor filtering** features:"
   ]
  },
  {
   "cell_type": "code",
   "execution_count": 97,
   "id": "ccb46f53",
   "metadata": {},
   "outputs": [
    {
     "name": "stdout",
     "output_type": "stream",
     "text": [
      "Maximum k: 11\n",
      "Accuracy: 0.9314040728831725\n"
     ]
    }
   ],
   "source": [
    "#Here, I split my data as train and test to find best k parameter. The test data constitutes of 30% of dataset\n",
    "test_split_ratio = 3\n",
    "#Shuffling the dataframe\n",
    "data_df = not_filtered_gabor_composed_data.sample(frac=1).reset_index(drop=True)\n",
    "\n",
    "test_start_index = int(data_df.shape[0] - data_df.shape[0] * test_split_ratio/10)\n",
    "k_value_list = [1,5,7,11,13,17]\n",
    "accuracy_k_dict = {}\n",
    "for selected_k in k_value_list:\n",
    "    knn = KNN_Classification(selected_k)\n",
    "    knn.train(data_df.iloc[:test_start_index,:-1], data_df.iloc[:test_start_index,-1])\n",
    "    prediction_array = knn.predict(data_df.iloc[test_start_index:,:-1])\n",
    "    accuracy_k_dict[selected_k] = accuracy(prediction_array, data_df.iloc[test_start_index:,-1])\n",
    "\n",
    "max_k = max(accuracy_k_dict.items(), key=operator.itemgetter(1))[0]\n",
    "print(\"Maximum k: \"+ str(max_k))\n",
    "print(\"Accuracy: \"+ str(accuracy_k_dict[max_k]))"
   ]
  },
  {
   "cell_type": "code",
   "execution_count": 149,
   "id": "7acf90b9",
   "metadata": {},
   "outputs": [
    {
     "name": "stdout",
     "output_type": "stream",
     "text": [
      "K-Fold Accuracy: 0.9298804590511437\n"
     ]
    }
   ],
   "source": [
    "not_filtered_gabor_knn = KNN_Classification(max_k)\n",
    "not_filtered_gabor_knn_accuracy=k_fold_cross_validation(not_filtered_gabor_knn, not_filtered_gabor_composed_data)\n",
    "print(\"K-Fold Accuracy: \"+ str(not_filtered_gabor_knn_accuracy))"
   ]
  },
  {
   "cell_type": "markdown",
   "id": "136a933f",
   "metadata": {},
   "source": [
    "- **Weighted KNN algorithm** for **not filtered and gabor filtering** features:"
   ]
  },
  {
   "cell_type": "code",
   "execution_count": 128,
   "id": "645620b4",
   "metadata": {},
   "outputs": [
    {
     "name": "stdout",
     "output_type": "stream",
     "text": [
      "Maximum k: 7\n",
      "Accuracy: 0.9292604501607717\n"
     ]
    }
   ],
   "source": [
    "#Here, I split my data as train and test to find best k parameter. The test data constitutes of 30% of dataset\n",
    "test_split_ratio = 3\n",
    "#Shuffling the dataframe\n",
    "data_df = not_filtered_gabor_composed_data.sample(frac=1).reset_index(drop=True)\n",
    "\n",
    "test_start_index = int(data_df.shape[0] - data_df.shape[0] * test_split_ratio/10)\n",
    "k_value_list = [1,5,7,11,13,17]\n",
    "accuracy_k_dict = {}\n",
    "for selected_k in k_value_list:\n",
    "    knn = Weighted_KNN_Classification(selected_k)\n",
    "    knn.train(data_df.iloc[:test_start_index,:-1], data_df.iloc[:test_start_index,-1])\n",
    "    prediction_array = knn.predict(data_df.iloc[test_start_index:,:-1])\n",
    "    accuracy_k_dict[selected_k] = accuracy(prediction_array, data_df.iloc[test_start_index:,-1])\n",
    "\n",
    "max_k = max(accuracy_k_dict.items(), key=operator.itemgetter(1))[0]\n",
    "print(\"Maximum k: \"+ str(max_k))\n",
    "print(\"Accuracy: \"+ str(accuracy_k_dict[max_k]))"
   ]
  },
  {
   "cell_type": "code",
   "execution_count": 150,
   "id": "43710edd",
   "metadata": {},
   "outputs": [
    {
     "name": "stdout",
     "output_type": "stream",
     "text": [
      "K-Fold Accuracy: 0.9260191449198198\n"
     ]
    }
   ],
   "source": [
    "weighted_not_filtered_gabor_knn = Weighted_KNN_Classification(max_k)\n",
    "weighted_not_filtered_gabor_knn_accuracy=k_fold_cross_validation(weighted_not_filtered_gabor_knn, not_filtered_gabor_composed_data)\n",
    "print(\"K-Fold Accuracy: \"+ str(weighted_not_filtered_gabor_knn_accuracy))"
   ]
  },
  {
   "cell_type": "markdown",
   "id": "cd76fe71",
   "metadata": {},
   "source": [
    "- **KNN algorithm** for **canny edge** features:"
   ]
  },
  {
   "cell_type": "code",
   "execution_count": 130,
   "id": "6ac96114",
   "metadata": {},
   "outputs": [
    {
     "name": "stdout",
     "output_type": "stream",
     "text": [
      "Maximum k: 7\n",
      "Accuracy: 0.92497320471597\n"
     ]
    }
   ],
   "source": [
    "#Here, I split my data as train and test to find best k parameter. The test data constitutes of 30% of dataset\n",
    "test_split_ratio = 3\n",
    "#Shuffling the dataframe\n",
    "data_df = canny_composed_data.sample(frac=1).reset_index(drop=True)\n",
    "\n",
    "test_start_index = int(data_df.shape[0] - data_df.shape[0] * test_split_ratio/10)\n",
    "\n",
    "k_value_list = [1,3,5,7,9,11,13,15]\n",
    "accuracy_k_dict = {}\n",
    "for selected_k in k_value_list:\n",
    "    knn = KNN_Classification(selected_k)\n",
    "    knn.train(data_df.iloc[:test_start_index,:-1], data_df.iloc[:test_start_index,-1])\n",
    "    prediction_array = knn.predict(data_df.iloc[test_start_index:,:-1])\n",
    "    accuracy_k_dict[selected_k] = accuracy(prediction_array, data_df.iloc[test_start_index:,-1])\n",
    "\n",
    "max_k = max(accuracy_k_dict.items(), key=operator.itemgetter(1))[0]\n",
    "print(\"Maximum k: \"+ str(max_k))\n",
    "print(\"Accuracy: \"+ str(accuracy_k_dict[max_k]))"
   ]
  },
  {
   "cell_type": "code",
   "execution_count": 151,
   "id": "ef1eb113",
   "metadata": {},
   "outputs": [
    {
     "name": "stdout",
     "output_type": "stream",
     "text": [
      "K-Fold Accuracy: 0.9176589111497501\n"
     ]
    }
   ],
   "source": [
    "canny_knn = KNN_Classification(max_k)\n",
    "canny_knn_accuracy=k_fold_cross_validation(canny_knn, canny_composed_data)\n",
    "print(\"K-Fold Accuracy: \"+ str(canny_knn_accuracy))"
   ]
  },
  {
   "cell_type": "markdown",
   "id": "4059263f",
   "metadata": {},
   "source": [
    "- **Weighted KNN algorithm** for **canny edge** features:"
   ]
  },
  {
   "cell_type": "code",
   "execution_count": 132,
   "id": "d0b59660",
   "metadata": {},
   "outputs": [
    {
     "name": "stdout",
     "output_type": "stream",
     "text": [
      "Maximum k: 7\n",
      "Accuracy: 0.9367631296891747\n"
     ]
    }
   ],
   "source": [
    "#Here, I split my data as train and test to find best k parameter. The test data constitutes of 30% of dataset\n",
    "test_split_ratio = 3\n",
    "#Shuffling the dataframe\n",
    "data_df = canny_composed_data.sample(frac=1).reset_index(drop=True)\n",
    "\n",
    "test_start_index = int(data_df.shape[0] - data_df.shape[0] * test_split_ratio/10)\n",
    "\n",
    "k_value_list = [1,3,5,7,9,11,13,15]\n",
    "accuracy_k_dict = {}\n",
    "for selected_k in k_value_list:\n",
    "    knn = Weighted_KNN_Classification(selected_k)\n",
    "    knn.train(data_df.iloc[:test_start_index,:-1], data_df.iloc[:test_start_index,-1])\n",
    "    prediction_array = knn.predict(data_df.iloc[test_start_index:,:-1])\n",
    "    accuracy_k_dict[selected_k] = accuracy(prediction_array, data_df.iloc[test_start_index:,-1])\n",
    "\n",
    "max_k = max(accuracy_k_dict.items(), key=operator.itemgetter(1))[0]\n",
    "print(\"Maximum k: \"+ str(max_k))\n",
    "print(\"Accuracy: \"+ str(accuracy_k_dict[max_k]))"
   ]
  },
  {
   "cell_type": "code",
   "execution_count": 152,
   "id": "2c8c7e0f",
   "metadata": {},
   "outputs": [
    {
     "name": "stdout",
     "output_type": "stream",
     "text": [
      "K-Fold Accuracy: 0.9183036528745304\n"
     ]
    }
   ],
   "source": [
    "weighted_canny_knn = Weighted_KNN_Classification(max_k)\n",
    "weighted_canny_knn_accuracy=k_fold_cross_validation(weighted_canny_knn, canny_composed_data)\n",
    "print(\"K-Fold Accuracy: \"+ str(weighted_canny_knn_accuracy))"
   ]
  },
  {
   "cell_type": "markdown",
   "id": "e7e4100c",
   "metadata": {},
   "source": [
    "- **KNN algorithm** for **canny edge and gabor features**:"
   ]
  },
  {
   "cell_type": "code",
   "execution_count": 134,
   "id": "4c3a226e",
   "metadata": {},
   "outputs": [
    {
     "name": "stdout",
     "output_type": "stream",
     "text": [
      "Maximum k: 5\n",
      "Accuracy: 0.9281886387995713\n"
     ]
    }
   ],
   "source": [
    "#Here, I split my data as train and test to find best k parameter. The test data constitutes of 30% of dataset\n",
    "test_split_ratio = 3\n",
    "#Shuffling the dataframe\n",
    "data_df = canny_gabor_composed_data.sample(frac=1).reset_index(drop=True)\n",
    "\n",
    "test_start_index = int(data_df.shape[0] - data_df.shape[0] * test_split_ratio/10)\n",
    "\n",
    "k_value_list = [1,3,5,7,9,11,13,15]\n",
    "accuracy_k_dict = {}\n",
    "for selected_k in k_value_list:\n",
    "    knn = KNN_Classification(selected_k)\n",
    "    knn.train(data_df.iloc[:test_start_index,:-1], data_df.iloc[:test_start_index,-1])\n",
    "    prediction_array = knn.predict(data_df.iloc[test_start_index:,:-1])\n",
    "    accuracy_k_dict[selected_k] = accuracy(prediction_array, data_df.iloc[test_start_index:,-1])\n",
    "\n",
    "max_k = max(accuracy_k_dict.items(), key=operator.itemgetter(1))[0]\n",
    "print(\"Maximum k: \"+ str(max_k))\n",
    "print(\"Accuracy: \"+ str(accuracy_k_dict[max_k]))"
   ]
  },
  {
   "cell_type": "code",
   "execution_count": 153,
   "id": "bf6ea17e",
   "metadata": {},
   "outputs": [
    {
     "name": "stdout",
     "output_type": "stream",
     "text": [
      "K-Fold Accuracy: 0.9154054178162182\n"
     ]
    }
   ],
   "source": [
    "canny_gabor_knn = KNN_Classification(max_k)\n",
    "canny_gabor_knn_accuracy=k_fold_cross_validation(canny_gabor_knn, canny_gabor_composed_data)\n",
    "print(\"K-Fold Accuracy: \"+ str(canny_gabor_knn_accuracy))"
   ]
  },
  {
   "cell_type": "markdown",
   "id": "ea3ed166",
   "metadata": {},
   "source": [
    "- **Weighted KNN algorithm** for **canny edge and gabor** features:"
   ]
  },
  {
   "cell_type": "code",
   "execution_count": 136,
   "id": "736403c9",
   "metadata": {},
   "outputs": [
    {
     "name": "stdout",
     "output_type": "stream",
     "text": [
      "Maximum k: 3\n",
      "Accuracy: 0.9163987138263665\n"
     ]
    }
   ],
   "source": [
    "#Here, I split my data as train and test to find best k parameter. The test data constitutes of 30% of dataset\n",
    "test_split_ratio = 3\n",
    "#Shuffling the dataframe\n",
    "data_df = canny_gabor_composed_data.sample(frac=1).reset_index(drop=True)\n",
    "\n",
    "test_start_index = int(data_df.shape[0] - data_df.shape[0] * test_split_ratio/10)\n",
    "\n",
    "k_value_list = [1,3,5,7,9,11,13,15]\n",
    "accuracy_k_dict = {}\n",
    "for selected_k in k_value_list:\n",
    "    knn = Weighted_KNN_Classification(selected_k)\n",
    "    knn.train(data_df.iloc[:test_start_index,:-1], data_df.iloc[:test_start_index,-1])\n",
    "    prediction_array = knn.predict(data_df.iloc[test_start_index:,:-1])\n",
    "    accuracy_k_dict[selected_k] = accuracy(prediction_array, data_df.iloc[test_start_index:,-1])\n",
    "\n",
    "max_k = max(accuracy_k_dict.items(), key=operator.itemgetter(1))[0]\n",
    "print(\"Maximum k: \"+ str(max_k))\n",
    "print(\"Accuracy: \"+ str(accuracy_k_dict[max_k]))"
   ]
  },
  {
   "cell_type": "code",
   "execution_count": 154,
   "id": "ece63c76",
   "metadata": {},
   "outputs": [
    {
     "name": "stdout",
     "output_type": "stream",
     "text": [
      "K-Fold Accuracy: 0.9211981646890036\n"
     ]
    }
   ],
   "source": [
    "weighted_canny_gabor_knn = Weighted_KNN_Classification(max_k)\n",
    "weighted_canny_gabor_knn_accuracy = k_fold_cross_validation(weighted_canny_gabor_knn, canny_gabor_composed_data)\n",
    "print(\"K-Fold Accuracy: \"+ str(weighted_canny_gabor_knn_accuracy))"
   ]
  },
  {
   "cell_type": "markdown",
   "id": "a8b14d3f",
   "metadata": {},
   "source": [
    "- **KNN algorithm** for **not filtered, canny edge and gabor features**:"
   ]
  },
  {
   "cell_type": "code",
   "execution_count": 139,
   "id": "cb8dfa85",
   "metadata": {},
   "outputs": [
    {
     "name": "stdout",
     "output_type": "stream",
     "text": [
      "Maximum k: 5\n",
      "Accuracy: 0.9367631296891747\n"
     ]
    }
   ],
   "source": [
    "#Here, I split my data as train and test to find best k parameter. The test data constitutes of 30% of dataset\n",
    "test_split_ratio = 3\n",
    "#Shuffling the dataframe\n",
    "data_df = not_filtered_canny_gabor_composed_data.sample(frac=1).reset_index(drop=True)\n",
    "\n",
    "test_start_index = int(data_df.shape[0] - data_df.shape[0] * test_split_ratio/10)\n",
    "\n",
    "k_value_list = [1,3,5,7,9,11,13,15]\n",
    "accuracy_k_dict = {}\n",
    "for selected_k in k_value_list:\n",
    "    knn = KNN_Classification(selected_k)\n",
    "    knn.train(data_df.iloc[:test_start_index,:-1], data_df.iloc[:test_start_index,-1])\n",
    "    prediction_array = knn.predict(data_df.iloc[test_start_index:,:-1])\n",
    "    accuracy_k_dict[selected_k] = accuracy(prediction_array, data_df.iloc[test_start_index:,-1])\n",
    "\n",
    "max_k = max(accuracy_k_dict.items(), key=operator.itemgetter(1))[0]\n",
    "print(\"Maximum k: \"+ str(max_k))\n",
    "print(\"Accuracy: \"+ str(accuracy_k_dict[max_k]))"
   ]
  },
  {
   "cell_type": "code",
   "execution_count": 141,
   "id": "7025344c",
   "metadata": {},
   "outputs": [
    {
     "name": "stdout",
     "output_type": "stream",
     "text": [
      "K-Fold Accuracy: 0.9263421363228499\n"
     ]
    }
   ],
   "source": [
    "not_filtered_canny_gabor_knn = KNN_Classification(max_k)\n",
    "not_filtered_canny_gabor_knn_accuracy= k_fold_cross_validation(not_filtered_canny_gabor_knn, not_filtered_canny_gabor_composed_data)\n",
    "print(\"K-Fold Accuracy: \"+ str(not_filtered_canny_gabor_knn_accuracy))"
   ]
  },
  {
   "cell_type": "markdown",
   "id": "9e6bae24",
   "metadata": {},
   "source": [
    "- **Weighted KNN algorithm** for **not filtered, canny edge and gabor** features:"
   ]
  },
  {
   "cell_type": "code",
   "execution_count": 142,
   "id": "c37bd12a",
   "metadata": {},
   "outputs": [
    {
     "name": "stdout",
     "output_type": "stream",
     "text": [
      "Maximum k: 15\n",
      "Accuracy: 0.9356913183279743\n"
     ]
    }
   ],
   "source": [
    "#Here, I split my data as train and test to find best k parameter. The test data constitutes of 30% of dataset\n",
    "test_split_ratio = 3\n",
    "#Shuffling the dataframe\n",
    "data_df = not_filtered_canny_gabor_composed_data.sample(frac=1).reset_index(drop=True)\n",
    "\n",
    "test_start_index = int(data_df.shape[0] - data_df.shape[0] * test_split_ratio/10)\n",
    "\n",
    "k_value_list = [1,3,5,7,9,11,13,15]\n",
    "accuracy_k_dict = {}\n",
    "for selected_k in k_value_list:\n",
    "    knn = Weighted_KNN_Classification(selected_k)\n",
    "    knn.train(data_df.iloc[:test_start_index,:-1], data_df.iloc[:test_start_index,-1])\n",
    "    prediction_array = knn.predict(data_df.iloc[test_start_index:,:-1])\n",
    "    accuracy_k_dict[selected_k] = accuracy(prediction_array, data_df.iloc[test_start_index:,-1])\n",
    "\n",
    "max_k = max(accuracy_k_dict.items(), key=operator.itemgetter(1))[0]\n",
    "print(\"Maximum k: \"+ str(max_k))\n",
    "print(\"Accuracy: \"+ str(accuracy_k_dict[max_k]))"
   ]
  },
  {
   "cell_type": "code",
   "execution_count": 143,
   "id": "bc18f9ea",
   "metadata": {},
   "outputs": [
    {
     "name": "stdout",
     "output_type": "stream",
     "text": [
      "K-Fold Accuracy: 0.9279530598238409\n"
     ]
    }
   ],
   "source": [
    "not_filtered_weighted_canny_gabor_knn = Weighted_KNN_Classification(max_k)\n",
    "not_filtered_weighted_canny_gabor_knn_accuracy = k_fold_cross_validation(not_filtered_weighted_canny_gabor_knn, not_filtered_canny_gabor_composed_data)\n",
    "print(\"K-Fold Accuracy: \"+ str(not_filtered_weighted_canny_gabor_knn_accuracy))"
   ]
  },
  {
   "cell_type": "markdown",
   "id": "f0aadfae",
   "metadata": {},
   "source": [
    "<a id='evaluation'></a>\n",
    "## 7-) Evaluation of Models"
   ]
  },
  {
   "cell_type": "markdown",
   "id": "3df81993",
   "metadata": {},
   "source": [
    "You can see the accuracy results of each model by given k-fold cross validation:"
   ]
  },
  {
   "cell_type": "code",
   "execution_count": 384,
   "id": "f5c66a74",
   "metadata": {},
   "outputs": [
    {
     "data": {
      "image/png": "[encoded data removed]",
      "text/plain": [
       "<Figure size 720x720 with 1 Axes>"
      ]
     },
     "metadata": {
      "needs_background": "light"
     },
     "output_type": "display_data"
    }
   ],
   "source": [
    "fig = plt.figure(figsize=(10, 10))\n",
    "ax = fig.add_axes([0,0,1,1])\n",
    "langs = ['Not Filtered', 'Gabor', 'Not Filtered & Gabor', 'Canny', 'Canny & Gabor', 'Not Filtered,Canny & Gabor']\n",
    "\n",
    "weighted_knn_accuracy = [weighted_not_filtered_knn_accuracy,\n",
    "                         weighted_gabor_knn_accuracy,\n",
    "                         weighted_not_filtered_gabor_knn_accuracy,\n",
    "                         weighted_canny_knn_accuracy,\n",
    "                         weighted_canny_gabor_knn_accuracy,\n",
    "                         not_filtered_weighted_canny_gabor_knn_accuracy]\n",
    "\n",
    "knn_accuracy = [not_filtered_knn_accuracy, \n",
    "                gabor_knn_accuracy, \n",
    "                not_filtered_gabor_knn_accuracy, \n",
    "                canny_knn_accuracy, \n",
    "                canny_gabor_knn_accuracy,\n",
    "                not_filtered_canny_gabor_knn_accuracy]\n",
    "barWidth = 0.25\n",
    "\n",
    "r1 = np.arange(6)\n",
    "r2 = [x + barWidth for x in r1] \n",
    "\n",
    "plt.bar(r1,weighted_knn_accuracy,color='b', width=barWidth )\n",
    "plt.bar(r2,knn_accuracy,color='r', width=barWidth )\n",
    "  \n",
    "plt.ylabel('Accuracy Rate of Models')\n",
    "  \n",
    "colors = {'Normal KNN ':'red', 'Weighted KNN ':'blue'}         \n",
    "labels = list(colors.keys())\n",
    "handles = [plt.Rectangle((0,0),1,1, color=colors[label]) for label in labels]\n",
    "plt.legend(handles, labels)\n",
    "plt.xticks([r + barWidth for r in range(0,6)], langs)\n",
    "\n",
    "cell_text=np.array([[not_filtered_knn_accuracy, weighted_not_filtered_knn_accuracy],\n",
    "                     [gabor_knn_accuracy, weighted_gabor_knn_accuracy],\n",
    "                     [not_filtered_gabor_knn_accuracy, weighted_not_filtered_gabor_knn_accuracy],\n",
    "                     [ canny_knn_accuracy, weighted_canny_knn_accuracy],\n",
    "                     [canny_gabor_knn_accuracy, weighted_canny_gabor_knn_accuracy],\n",
    "                     [not_filtered_canny_gabor_knn_accuracy, not_filtered_weighted_canny_gabor_knn_accuracy]])\n",
    "\n",
    "plt.table(cellText=cell_text,\n",
    "          rowLabels=(\"Not Filtered\", \"Gabor\", \"Not Filtered & Gabor\",\"Canny\",  \"Canny & Gabor\", \"Not Filtered, Canny & Gabor\"),\n",
    "          colLabels=(\"Normal KNN\", \"Weighted KNN\"), loc='top')\n",
    "\n",
    "plt.show()"
   ]
  },
  {
   "cell_type": "markdown",
   "id": "c6d19930",
   "metadata": {},
   "source": [
    "As you can see above, weighted k-nearest neighbour mostly gives the best results in k-fold cross validation. The best result is given by the model which trained with the composed normal image (not filtered) and gabor features dataset, which gives 92.98% and 92.60% accuracy. So, I haven chosen the model which use this dataset, and choose the k value as 7 for Weighted KNN algorithm. I haven't prefer the normal knn altough the accuracy is slightly bigger than weighted, as this difference can be ignoring. \n",
    "\n",
    "By using this mode, we can look at the confusion matrix and classification report:"
   ]
  },
  {
   "cell_type": "code",
   "execution_count": 242,
   "id": "6ea947b8",
   "metadata": {},
   "outputs": [
    {
     "name": "stdout",
     "output_type": "stream",
     "text": [
      "[[261   3  12]\n",
      " [  3 325  19]\n",
      " [  7  22 281]]\n",
      "              precision    recall  f1-score   support\n",
      "\n",
      "         1.0       0.96      0.95      0.95       276\n",
      "         2.0       0.93      0.94      0.93       347\n",
      "         3.0       0.90      0.91      0.90       310\n",
      "\n",
      "    accuracy                           0.93       933\n",
      "   macro avg       0.93      0.93      0.93       933\n",
      "weighted avg       0.93      0.93      0.93       933\n",
      "\n",
      "Accuracy: 0.9292604501607717\n"
     ]
    }
   ],
   "source": [
    "data_df = not_filtered_gabor_composed_data.sample(frac=1).reset_index(drop=True)\n",
    "test_start_index = int(data_df.shape[0] - data_df.shape[0] * test_split_ratio/10)\n",
    "\n",
    "#I select k=7 because the best result for not filtered, gabor and canny data weigted knn\n",
    "knn_algorithm = Weighted_KNN_Classification(7)\n",
    "knn_algorithm.train(data_df.iloc[:test_start_index,:-1], data_df.iloc[:test_start_index,-1])\n",
    "prediction_array = knn_algorithm.predict(data_df.iloc[test_start_index:,:-1])\n",
    "\n",
    "#I convert to numpy and reshape the result because the confusion matrix and classification report use numpy array\n",
    "y_pred = prediction_array.to_numpy().reshape(prediction_array.shape[0],-1)\n",
    "\n",
    "# For classsification report, Label 1 equals to COVID, Label 2 equals to NORMAL, and Label 3 equals to Viral Pheinomenia\n",
    "print(confusion_matrix(data_df.iloc[test_start_index:,-1], y_pred))\n",
    "print(classification_report(data_df.iloc[test_start_index:,-1], y_pred))\n",
    "print(\"Accuracy:\", accuracy(prediction_array, data_df.iloc[test_start_index:,-1]))"
   ]
  },
  {
   "cell_type": "markdown",
   "id": "6e109602",
   "metadata": {},
   "source": [
    "#### Confusion Matrix:\n",
    "As you can see above, If we look at the confusion matrix, the number of the false predicted values mostly occured for viral phenomenia and normal predictions,\n",
    "- For covid labeled dataset, 15 of 276 data are predicted false. 12 data are predicted as Viral, and 3 data predicted as Normal wrongly.\n",
    "- For normal labeled dataset, 22 of 347 data are predicted false. 19 data are predicted as Viral, while this is a Normal labeled data.\n",
    "- For viral pheinomenia dataset, 29 of 310 data are predicted false. 22 data are predicted as Normal, while this is a Viral labeled data.\n",
    "\n",
    "#### Classification Report:\n",
    "If we look at the classification report covid predictions has given us the best result, \n",
    "- For COVID dataset, 95% of all COVID dataset predicted as true, and 96% of the model's prediction about COVID labels are real COVID data.  \n",
    "- For NORMAL dataset, 94% of all NORMAL dataset predicted as true, and 93% of the model's prediction about NORMAL labels are real NORMAL data.\n",
    "- For Viral Pheinomenia dataset, 91% of all Viral Pheinomenia dataset predicted as true, and 90% of the model's prediction about Viral Pheinomenia labels are real Viral Pheinomenia data.\n",
    "\n",
    "\n",
    "We can say that, our model mostly confuse to predict normal and viral labels. The cause of this, these images mostly looks same to each other. In other words, its pixel values are mostly close to each other. You can see some of the pictures that predicted wrongly for both normal and viral labels:"
   ]
  },
  {
   "cell_type": "code",
   "execution_count": 359,
   "id": "8b578d45",
   "metadata": {},
   "outputs": [],
   "source": [
    "# To find false negatives for normal labeled data\n",
    "\n",
    "prediction_row_index_label_df = pd.DataFrame(data=knn_algorithm.prediction_and_row_index_list,\n",
    "                                          columns=[\"Index\", \"Predicted Labels\"])\n",
    "# Add actual label to dataframe\n",
    "prediction_row_index_label_df[\"Actual Labels\"] = data_df.iloc[test_start_index:,-1].reset_index(drop=True).to_frame()\n",
    "\n",
    "# Filter actual label is Normal Phenomenia but predicted as Viral\n",
    "predicted_as_viral_rows_df = prediction_row_index_label_df[prediction_row_index_label_df[\"Actual Labels\"] != prediction_row_index_label_df[\"Predicted Labels\"]]\n",
    "predicted_as_viral_rows_df = predicted_as_covid_rows_df[prediction_row_index_label_df[\"Actual Labels\"] ==2]\n",
    "predicted_as_viral_rows_df = predicted_as_covid_rows_df[prediction_row_index_label_df[\"Predicted Labels\"] ==3]\n",
    "\n",
    "# Filter actual label is Viral Phenomenia but predicted as Normal\n",
    "predicted_as_normal_rows_df = prediction_row_index_label_df[prediction_row_index_label_df[\"Actual Labels\"] != prediction_row_index_label_df[\"Predicted Labels\"]]\n",
    "predicted_as_normal_rows_df = predicted_as_normal_rows_df[prediction_row_index_label_df[\"Actual Labels\"] ==3]\n",
    "predicted_as_normal_rows_df = predicted_as_normal_rows_df[prediction_row_index_label_df[\"Predicted Labels\"] ==2]"
   ]
  },
  {
   "cell_type": "code",
   "execution_count": 368,
   "id": "103cc2ed",
   "metadata": {},
   "outputs": [
    {
     "data": {
      "image/png": "[encoded data removed]",
      "text/plain": [
       "<Figure size 432x288 with 1 Axes>"
      ]
     },
     "metadata": {
      "needs_background": "light"
     },
     "output_type": "display_data"
    }
   ],
   "source": [
    "plt.imshow(data_df.iloc[predicted_as_normal_rows_df.iloc[0,0],SIZE*SIZE:-2].to_numpy().reshape(SIZE, SIZE), cmap='gray')\n",
    "plt.title('Predicted as Viral - Actual Normal'); "
   ]
  },
  {
   "cell_type": "code",
   "execution_count": 369,
   "id": "71b8b94f",
   "metadata": {},
   "outputs": [
    {
     "data": {
      "image/png": "[encoded data removed]",
      "text/plain": [
       "<Figure size 432x288 with 1 Axes>"
      ]
     },
     "metadata": {
      "needs_background": "light"
     },
     "output_type": "display_data"
    }
   ],
   "source": [
    "plt.imshow(data_df.iloc[predicted_as_normal_rows_df.iloc[1,0],SIZE*SIZE:-2].to_numpy().reshape(SIZE, SIZE), cmap='gray')\n",
    "plt.title('Predicted as Viral - Actual Normal'); "
   ]
  },
  {
   "cell_type": "code",
   "execution_count": 366,
   "id": "81326534",
   "metadata": {},
   "outputs": [
    {
     "data": {
      "image/png": "[encoded data removed]",
      "text/plain": [
       "<Figure size 432x288 with 1 Axes>"
      ]
     },
     "metadata": {
      "needs_background": "light"
     },
     "output_type": "display_data"
    }
   ],
   "source": [
    "plt.imshow(data_df.iloc[predicted_as_normal_rows_df.iloc[0,0],SIZE*SIZE:-2].to_numpy().reshape(SIZE, SIZE), cmap='gray')\n",
    "plt.title('Predicted as Normal - Actual Viral'); "
   ]
  },
  {
   "cell_type": "code",
   "execution_count": 367,
   "id": "1a37ff6c",
   "metadata": {},
   "outputs": [
    {
     "data": {
      "image/png": "[encoded data removed]",
      "text/plain": [
       "<Figure size 432x288 with 1 Axes>"
      ]
     },
     "metadata": {
      "needs_background": "light"
     },
     "output_type": "display_data"
    }
   ],
   "source": [
    "plt.imshow(data_df.iloc[predicted_as_normal_rows_df.iloc[2,0],SIZE*SIZE:-2].to_numpy().reshape(SIZE, SIZE), cmap='gray')\n",
    "plt.title('Predicted as Normal - Actual Viral'); "
   ]
  },
  {
   "cell_type": "markdown",
   "id": "8933c529",
   "metadata": {},
   "source": [
    "As a conclusion, \n",
    "- In Validation of Performance part, the test time has increased while the number of features are increased. We can say that, the K-Nearest Neighbour is not memory and CPU friend algorithm. This because, the matrix operations are costly computed while the number of columns are increasing, and, the training part is just loading of all data on memory. \n",
    "\n",
    "- The gabor filters gives the better results than canny edge detection. Usage of this featuring operation in image classification can be more preferable.\n",
    "\n",
    "- If we look at the weighted knn classification , its prediction is more accurate as the nearest points are weighted as according to distances from the predicted point.\n",
    "\n"
   ]
  },
  {
   "cell_type": "code",
   "execution_count": null,
   "id": "e4142ef1",
   "metadata": {},
   "outputs": [],
   "source": []
  }
 ],
 "metadata": {
  "kernelspec": {
   "display_name": "Python 3",
   "language": "python",
   "name": "python3"
  },
  "language_info": {
   "codemirror_mode": {
    "name": "ipython",
    "version": 3
   },
   "file_extension": ".py",
   "mimetype": "text/x-python",
   "name": "python",
   "nbconvert_exporter": "python",
   "pygments_lexer": "ipython3",
   "version": "3.8.5"
  }
 },
 "nbformat": 4,
 "nbformat_minor": 5
}
